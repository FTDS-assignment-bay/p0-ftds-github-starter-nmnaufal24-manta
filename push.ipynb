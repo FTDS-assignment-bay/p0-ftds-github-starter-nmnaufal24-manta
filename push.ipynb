{
 "cells": [
  {
   "cell_type": "code",
   "execution_count": 1,
   "id": "6a63f726",
   "metadata": {},
   "outputs": [
    {
     "data": {
      "text/plain": [
       "4"
      ]
     },
     "execution_count": 1,
     "metadata": {},
     "output_type": "execute_result"
    }
   ],
   "source": [
    "2*2"
   ]
  },
  {
   "cell_type": "code",
   "execution_count": 3,
   "id": "242e615c",
   "metadata": {},
   "outputs": [],
   "source": [
    "# Header"
   ]
  },
  {
   "cell_type": "markdown",
   "id": "bd3a31ee",
   "metadata": {},
   "source": [
    "# Header"
   ]
  },
  {
   "cell_type": "markdown",
   "id": "0492af0b",
   "metadata": {},
   "source": [
    "1. `git clone` -> untuk meng'download' repo tugas\n",
    "2. `cd <ke repo lokal>` -> untuk pindah folder ke repo lokal\n",
    "3. Buat file assignment ATAU pindahkan file assignment ke dalam repo lokal\n",
    "4. `git status` -> untuk cek file baru di repo lokal (harusnya warna merah)\n",
    "5. `git add .` -> untuk memasukan file baru tsb ke stage mode\n",
    "6. `git status` -> untuk cek file baru tsb yg sdh di stage mode (harusnya warna hijau)\n",
    "7. `git commit -m <message nya apa?>` -> untuk memberi keterangan push\n",
    "8. `git push` -> untuk 'upload' file ke repository gitclassroom.\n",
    "9. Cek lagi file di repo git, sudah"
   ]
  }
 ],
 "metadata": {
  "kernelspec": {
   "display_name": "base",
   "language": "python",
   "name": "python3"
  },
  "language_info": {
   "codemirror_mode": {
    "name": "ipython",
    "version": 3
   },
   "file_extension": ".py",
   "mimetype": "text/x-python",
   "name": "python",
   "nbconvert_exporter": "python",
   "pygments_lexer": "ipython3",
   "version": "3.13.5"
  }
 },
 "nbformat": 4,
 "nbformat_minor": 5
}
